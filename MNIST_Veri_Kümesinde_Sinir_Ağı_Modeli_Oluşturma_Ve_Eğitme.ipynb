{
  "nbformat": 4,
  "nbformat_minor": 0,
  "metadata": {
    "colab": {
      "name": "MNIST Veri Kümesinde Sinir Ağı Modeli Oluşturma Ve Eğitme.ipynb",
      "provenance": []
    },
    "kernelspec": {
      "name": "python3",
      "display_name": "Python 3"
    }
  },
  "cells": [
    {
      "cell_type": "markdown",
      "metadata": {
        "id": "3cfwQpO9TgB0",
        "colab_type": "text"
      },
      "source": [
        "# MNIST\n",
        "0 dan 9 a el yazısı rakamların olduğu MNIST veri seti ile Keras Kütüphanesinde Model oluşturma ve Eğitme "
      ]
    },
    {
      "cell_type": "markdown",
      "metadata": {
        "id": "AMvuCLkDT8_0",
        "colab_type": "text"
      },
      "source": [
        "## Veri setini Yükleme\n",
        "\n",
        "\n",
        "\n"
      ]
    },
    {
      "cell_type": "code",
      "metadata": {
        "id": "xVZUvRJUTuN3",
        "colab_type": "code",
        "colab": {}
      },
      "source": [
        "from keras.datasets import mnist\n",
        "(train_images , train_labels),(test_images , test_labels) = mnist.load_data()"
      ],
      "execution_count": 8,
      "outputs": []
    },
    {
      "cell_type": "markdown",
      "metadata": {
        "id": "bNy7sUlMUQNp",
        "colab_type": "text"
      },
      "source": [
        "\n",
        "\n",
        "## Veri setine ilk bakış\n",
        "\n"
      ]
    },
    {
      "cell_type": "code",
      "metadata": {
        "id": "Bz62DhotUE9v",
        "colab_type": "code",
        "colab": {
          "base_uri": "https://localhost:8080/",
          "height": 34
        },
        "outputId": "4997e818-d5d2-4a6e-bb09-9a7a4bde0b6b"
      },
      "source": [
        "train_images.shape"
      ],
      "execution_count": 9,
      "outputs": [
        {
          "output_type": "execute_result",
          "data": {
            "text/plain": [
              "(60000, 28, 28)"
            ]
          },
          "metadata": {
            "tags": []
          },
          "execution_count": 9
        }
      ]
    },
    {
      "cell_type": "code",
      "metadata": {
        "id": "B5avTQrgUdAl",
        "colab_type": "code",
        "colab": {
          "base_uri": "https://localhost:8080/",
          "height": 68
        },
        "outputId": "ba9ad4a1-9301-4147-d408-60726d4fdc84"
      },
      "source": [
        "print(len (train_images),\"\\n\")\n",
        "print(len(test_labels))"
      ],
      "execution_count": 10,
      "outputs": [
        {
          "output_type": "stream",
          "text": [
            "60000 \n",
            "\n",
            "10000\n"
          ],
          "name": "stdout"
        }
      ]
    },
    {
      "cell_type": "code",
      "metadata": {
        "id": "NtMhMz9QUdHM",
        "colab_type": "code",
        "colab": {
          "base_uri": "https://localhost:8080/",
          "height": 51
        },
        "outputId": "396f301b-cdc7-41b3-ceea-a4d3c548c684"
      },
      "source": [
        "# veri seti içerisindeki  görüntülerin etiketleri\n",
        "print(\"Train_Labels =\",train_labels)\n",
        "print(\"Test_Labels =\",test_labels)"
      ],
      "execution_count": 13,
      "outputs": [
        {
          "output_type": "stream",
          "text": [
            "Train_Labels = [5 0 4 ... 5 6 8]\n",
            "Test_Labels = [7 2 1 ... 4 5 6]\n"
          ],
          "name": "stdout"
        }
      ]
    },
    {
      "cell_type": "markdown",
      "metadata": {
        "id": "nM35U03RVrIJ",
        "colab_type": "text"
      },
      "source": [
        "## Yapay Sinir Ağı Mimarisi (YSA)"
      ]
    },
    {
      "cell_type": "code",
      "metadata": {
        "id": "D2Kc-ou7UdM1",
        "colab_type": "code",
        "colab": {}
      },
      "source": [
        "from keras import models\n",
        "from keras import layers"
      ],
      "execution_count": 14,
      "outputs": []
    },
    {
      "cell_type": "code",
      "metadata": {
        "id": "tDwnNdFYV0JI",
        "colab_type": "code",
        "colab": {
          "base_uri": "https://localhost:8080/",
          "height": 34
        },
        "outputId": "31e6cd90-529a-45d1-b84b-0e03078d2bc3"
      },
      "source": [
        "network  = models.Sequential()\n",
        "# Düz bir sinir ağı elemanı ekliyoruz\n",
        "network.add(layers.Dense(512 , activation=\"relu\", input_shape=(28*28,)))\n",
        "network.add(layers.Dense(10, activation= \"softmax\"))\n",
        "print(\"Network Adding Succesfull !!\")"
      ],
      "execution_count": 18,
      "outputs": [
        {
          "output_type": "stream",
          "text": [
            "Network Adding Succesfull !!\n"
          ],
          "name": "stdout"
        }
      ]
    },
    {
      "cell_type": "markdown",
      "metadata": {
        "id": "wTeJS0H-WpvW",
        "colab_type": "text"
      },
      "source": [
        "## YSA Modelinin Derlenmesi"
      ]
    },
    {
      "cell_type": "code",
      "metadata": {
        "id": "OkW8RDvRWnG2",
        "colab_type": "code",
        "colab": {}
      },
      "source": [
        "\"\"\" \n",
        " optimizasyon tekniklerinden rmsprop seçiyoruz\n",
        " loss (yitim) = başarıya giderken  geriye yayılımı uyguladıktan sonra her seferinde bir yitim hesaplıyoruz\n",
        "            ve her seferinde bu yitimi minimize etmeye çalışıyoruz optimizasyon teknikleriyle burada ise Categorical_crossentropy kullanıyoruz\n",
        " Metrik = accuracy seçiyoruz\n",
        "\"\"\"\n",
        "network.compile(optimizer = \"rmsprop\",\n",
        "                loss =\"categorical_crossentropy\",\n",
        "                metrics = [\"accuracy\"])\n"
      ],
      "execution_count": 20,
      "outputs": []
    },
    {
      "cell_type": "markdown",
      "metadata": {
        "id": "-Aao8JK5YuhN",
        "colab_type": "text"
      },
      "source": [
        "## Veri Setindeki Girişlerin ve Etiketlerin Hazırlanması"
      ]
    },
    {
      "cell_type": "code",
      "metadata": {
        "id": "qv5j2b-TYzIa",
        "colab_type": "code",
        "colab": {}
      },
      "source": [
        "train_images = train_images.reshape((60000,28*28))\n",
        "#astype ile tipik görüntü işlemedeki optimizasyonu gerçekleştiriyoruz\n",
        "train_images = train_images.astype(\"float32\")/255\n",
        "\n",
        "test_images = test_images.reshape((10000,28*28))\n",
        "test_images = test_images.astype(\"float32\")/255\n"
      ],
      "execution_count": 21,
      "outputs": []
    },
    {
      "cell_type": "code",
      "metadata": {
        "id": "eBS2pDz6ZXFp",
        "colab_type": "code",
        "colab": {}
      },
      "source": [
        "from keras.utils import to_categorical\n",
        "\n",
        "train_labels = to_categorical(train_labels)\n",
        "test_labels = to_categorical(test_labels)\n"
      ],
      "execution_count": 22,
      "outputs": []
    },
    {
      "cell_type": "markdown",
      "metadata": {
        "id": "QbsQBRKEZl_4",
        "colab_type": "text"
      },
      "source": [
        "## YSA Modelinin Eğitilmesi"
      ]
    },
    {
      "cell_type": "code",
      "metadata": {
        "id": "BeEXv7EwZp8z",
        "colab_type": "code",
        "colab": {
          "base_uri": "https://localhost:8080/",
          "height": 374
        },
        "outputId": "be8d79cf-b277-45ba-ea63-7c7a8a04e1bc"
      },
      "source": [
        "network.fit(train_images,train_labels , epochs= 10 , batch_size= 128)\n"
      ],
      "execution_count": 23,
      "outputs": [
        {
          "output_type": "stream",
          "text": [
            "Epoch 1/10\n",
            "60000/60000 [==============================] - 5s 78us/step - loss: 0.2600 - accuracy: 0.9238\n",
            "Epoch 2/10\n",
            "60000/60000 [==============================] - 4s 75us/step - loss: 0.1049 - accuracy: 0.9694\n",
            "Epoch 3/10\n",
            "60000/60000 [==============================] - 5s 76us/step - loss: 0.0695 - accuracy: 0.9790\n",
            "Epoch 4/10\n",
            "60000/60000 [==============================] - 4s 75us/step - loss: 0.0504 - accuracy: 0.9852\n",
            "Epoch 5/10\n",
            "60000/60000 [==============================] - 4s 75us/step - loss: 0.0382 - accuracy: 0.9883\n",
            "Epoch 6/10\n",
            "60000/60000 [==============================] - 4s 75us/step - loss: 0.0290 - accuracy: 0.9912\n",
            "Epoch 7/10\n",
            "60000/60000 [==============================] - 4s 74us/step - loss: 0.0230 - accuracy: 0.9935\n",
            "Epoch 8/10\n",
            "60000/60000 [==============================] - 4s 74us/step - loss: 0.0171 - accuracy: 0.9948\n",
            "Epoch 9/10\n",
            "60000/60000 [==============================] - 5s 75us/step - loss: 0.0129 - accuracy: 0.9964\n",
            "Epoch 10/10\n",
            "60000/60000 [==============================] - 4s 73us/step - loss: 0.0102 - accuracy: 0.9969\n"
          ],
          "name": "stdout"
        },
        {
          "output_type": "execute_result",
          "data": {
            "text/plain": [
              "<keras.callbacks.callbacks.History at 0x7f1c302c6940>"
            ]
          },
          "metadata": {
            "tags": []
          },
          "execution_count": 23
        }
      ]
    },
    {
      "cell_type": "code",
      "metadata": {
        "id": "yvNlgEl4Z7uh",
        "colab_type": "code",
        "colab": {
          "base_uri": "https://localhost:8080/",
          "height": 68
        },
        "outputId": "54c6af5a-cb86-409d-90a6-482fcf1bc81d"
      },
      "source": [
        "test_loss , test_accuarcy = network.evaluate(test_images , test_labels)\n",
        "print(\"Test loss =\" ,test_loss)\n",
        "print(\"Test Accuarcy= \", test_accuarcy)"
      ],
      "execution_count": 24,
      "outputs": [
        {
          "output_type": "stream",
          "text": [
            "10000/10000 [==============================] - 0s 49us/step\n",
            "Test loss = 0.06663642712929722\n",
            "Test Accuarcy=  0.9819999933242798\n"
          ],
          "name": "stdout"
        }
      ]
    }
  ]
}